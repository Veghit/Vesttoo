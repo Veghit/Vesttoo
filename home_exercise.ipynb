{
 "cells": [
  {
   "cell_type": "markdown",
   "id": "064a4671-f7bc-4e06-9242-b611b9dc8a8d",
   "metadata": {},
   "source": [
    "Vesttoo ARIMA Home Test - Itay Vegh - 2022\n",
    "***"
   ]
  },
  {
   "cell_type": "markdown",
   "id": "8c7a87cd-5a07-45d6-bf75-fbaece3d0148",
   "metadata": {},
   "source": [
    "# Task 1"
   ]
  },
  {
   "cell_type": "markdown",
   "id": "82f9ebc7-589b-4b38-a9df-27e82da17bd6",
   "metadata": {},
   "source": [
    "## \n",
    "> Create a PyTorch module describing an ARIMA(0,1,1) time series."
   ]
  },
  {
   "cell_type": "code",
   "execution_count": 1,
   "id": "a8c98805-4385-4a23-a56d-fcd154e04980",
   "metadata": {
    "execution": {
     "iopub.execute_input": "2022-01-22T18:37:44.198596Z",
     "iopub.status.busy": "2022-01-22T18:37:44.198386Z",
     "iopub.status.idle": "2022-01-22T18:37:45.577639Z",
     "shell.execute_reply": "2022-01-22T18:37:45.577318Z",
     "shell.execute_reply.started": "2022-01-22T18:37:44.198524Z"
    },
    "tags": []
   },
   "outputs": [],
   "source": [
    "import torch\n",
    "import seaborn as sns\n",
    "import pandas as pd\n",
    "import numpy as np\n",
    "import math"
   ]
  },
  {
   "cell_type": "code",
   "execution_count": 2,
   "id": "a4d2ead5-17c4-41ef-b665-f940de49c339",
   "metadata": {
    "execution": {
     "iopub.execute_input": "2022-01-22T18:37:45.578511Z",
     "iopub.status.busy": "2022-01-22T18:37:45.578362Z",
     "iopub.status.idle": "2022-01-22T18:37:45.587722Z",
     "shell.execute_reply": "2022-01-22T18:37:45.587384Z",
     "shell.execute_reply.started": "2022-01-22T18:37:45.578497Z"
    },
    "tags": []
   },
   "outputs": [],
   "source": [
    "class ARIMA011(torch.nn.Module):\n",
    "    \n",
    "    \"\"\"\n",
    "    This Class describes a PyTorch Module of an ARIMA(0,1,1)\n",
    "    time-seris process, a simple exponential average with a drift.\n",
    "    Such a model has two parameters: the drift velocity (drift)\n",
    "    and the amount of exponential decay (alpha). \n",
    "    \"\"\"\n",
    "    \n",
    "    def __init__(self,ma_L1=0.5,x1=0.5):\n",
    "        super(ARIMA011, self).__init__()\n",
    "        \n",
    "        self.ma_L1 = torch.nn.Parameter((torch.ones(1)*ma_L1))\n",
    "        self.x1 = torch.nn.Parameter((torch.ones(1)*x1))\n",
    "    \n",
    "    def forward(self, errors):\n",
    "        \"\"\"\n",
    "        * Given additional time it is probably possible to improve the time complexity \n",
    "        of this function, using tensor computations instead of the main \"for\" loop.\n",
    "        We assume that the errors are normally distributed with mean 0 and sigma 1.\n",
    "        \"\"\"\n",
    "        \n",
    "        n = len(errors)\n",
    "        observed = torch.zeros(n)\n",
    "        forecast = torch.zeros(n)\n",
    "        \n",
    "        for i in range(0,n):\n",
    "            if i==0:\n",
    "                forecast[i]=0\n",
    "            else:\n",
    "                forecast[i]=forecast[i-1]+(1+self.ma_L1)*errors[i-1]+self.x1\n",
    "            observed[i] = (forecast[i]+errors[i])\n",
    "\n",
    "        \n",
    "        return observed\n",
    "    \n",
    "    def fit(self,y,iters=5000,verbose=0):\n",
    "        \"\"\"\n",
    "        Calculating the maximum likelihood parameters of an ARIMA(0,1,1) model.\n",
    "        The values of alpha and drift which gives the highest likelihood for the observed values. \n",
    "        \"\"\"\n",
    "        optim = torch.optim.SGD(model.parameters(), lr=0.0001, momentum=0.25)\n",
    "\n",
    "\n",
    "        self.x1.data = (y-y.roll(1))[1:].mean()\n",
    "\n",
    "        \n",
    "        for values in range(iters):\n",
    "            loss = -self.log_likelihood_arima(y.clone(),verbose=verbose)\n",
    "            optim.zero_grad()\n",
    "            loss.backward(retain_graph=True)\n",
    "            optim.step()\n",
    "\n",
    "\n",
    "        return\n",
    "    \n",
    "    \n",
    "    def likelihood_normal(self,x,mu,sigma):\n",
    "\n",
    "        denomerator = sigma*((2*math.pi)**(0.5))\n",
    "\n",
    "        numerator = torch.exp(-(((x-mu)**2)/(2*sigma)))\n",
    "        return numerator/denomerator\n",
    "\n",
    "\n",
    "\n",
    "    def log_likelihood_arima(self,y,verbose=0):\n",
    "        ll = 0\n",
    "        prev_error = None\n",
    "        \n",
    "        ma_L1,x1 = self.parameters()\n",
    "        if verbose>0:\n",
    "            print(\"x1\",x1,\"ma_L1\",ma_L1,\"ll\",ll)\n",
    "            \n",
    "        for i in range(len(y)):\n",
    "            if i==0:\n",
    "                error=torch.zeros(1)\n",
    "            else:\n",
    "                error = (y[i]-y[i-1])-(ma_L1*prev_error)-x1 \n",
    "            prev_error = error\n",
    "            ll+=(error**2) # taking the argmax of the log of the probability for normal dist. is equiv. to taling the error squared. Because log(exp(x)) = x\n",
    "        \n",
    "        if verbose>0:\n",
    "            print(\"x1\",x1,\"ma_L1\",ma_L1,\"ll\",ll)\n",
    "        \n",
    "        return -ll"
   ]
  },
  {
   "cell_type": "code",
   "execution_count": 3,
   "id": "8bc0536a-c3ea-43a4-b731-a56eae5c0ed7",
   "metadata": {
    "execution": {
     "iopub.execute_input": "2022-01-22T18:37:45.590180Z",
     "iopub.status.busy": "2022-01-22T18:37:45.589903Z",
     "iopub.status.idle": "2022-01-22T18:37:45.715671Z",
     "shell.execute_reply": "2022-01-22T18:37:45.715289Z",
     "shell.execute_reply.started": "2022-01-22T18:37:45.590163Z"
    },
    "tags": []
   },
   "outputs": [],
   "source": [
    "# sanity check for simulation generator using statsmodels ARIMA\n",
    "\n",
    "import numpy as np\n",
    "from statsmodels.tsa.api import ARIMA\n",
    "\n",
    "def simulate_ARIMA011_test(N,x1,ma_L1,plot=False,verbose=0):\n",
    "    if verbose>0:\n",
    "        print(\"simulating ARIMA(0,1,1) model\")\n",
    "\n",
    "    sigma = 1\n",
    "\n",
    "    zero_dta = np.zeros(N)\n",
    "\n",
    "    modl = ARIMA(zero_dta, order = (0,1,1),trend=\"t\",trend_offset=0)\n",
    "    np.random.seed(100)\n",
    "    errors = ARIMA(zero_dta, order = (0,0,0)).simulate(params=[0,1],nsimulations=N)\n",
    "    params = (x1,ma_L1,sigma,)\n",
    "    if verbose>0:\n",
    "        print(\"(ma_L1,sigma)\",params)\n",
    "    np.random.seed(100)\n",
    "    sims = modl.simulate(params=params,nsimulations=N,trend_offset=0)\n",
    "    sims[0] = None\n",
    "    sims-=sims[1]\n",
    "    if plot:\n",
    "        sns.lineplot(data=sims,label=\"arima\")\n",
    "        sns.lineplot(data=errors,label=\"errors\")\n",
    "    return sims,errors\n",
    "\n",
    "def fit_ARIMA011_test(y):\n",
    "    np.random.seed(100)\n",
    "    sigma=1\n",
    "    modl = ARIMA(y, order = (0,1,1),trend=\"t\",trend_offset=0)\n",
    "    res = modl.fit_constrained({\"sigma2\":sigma})\n",
    "    return res.params\n",
    "\n",
    "\n"
   ]
  },
  {
   "cell_type": "markdown",
   "id": "650ca14d-d196-4b7c-a896-eb69189a766e",
   "metadata": {},
   "source": [
    "TEST PyTorch generative Module"
   ]
  },
  {
   "cell_type": "code",
   "execution_count": 4,
   "id": "80625852-6431-4f08-84b0-31bca20103b6",
   "metadata": {
    "execution": {
     "iopub.execute_input": "2022-01-22T18:37:45.716294Z",
     "iopub.status.busy": "2022-01-22T18:37:45.716195Z",
     "iopub.status.idle": "2022-01-22T18:37:45.937072Z",
     "shell.execute_reply": "2022-01-22T18:37:45.936651Z",
     "shell.execute_reply.started": "2022-01-22T18:37:45.716281Z"
    },
    "tags": []
   },
   "outputs": [
    {
     "name": "stdout",
     "output_type": "stream",
     "text": [
      "passed sanity check for x1=0 , ma_L1=0\n",
      "passed sanity check for x1=0 , ma_L1=1\n",
      "passed sanity check for x1=10 , ma_L1=0\n",
      "passed sanity check for x1=1 , ma_L1=10\n",
      "passed sanity check for x1=0.33 , ma_L1=0.55\n",
      "passed sanity check for x1=-1 , ma_L1=-0.3\n",
      "passed sanity check for x1=1 , ma_L1=-0.3\n"
     ]
    },
    {
     "name": "stderr",
     "output_type": "stream",
     "text": [
      "/opt/homebrew/Caskroom/miniforge/base/envs/base_env_39/lib/python3.9/site-packages/statsmodels/tsa/statespace/sarimax.py:978: UserWarning: Non-invertible starting MA parameters found. Using zeros as starting parameters.\n",
      "  warn('Non-invertible starting MA parameters found.'\n",
      "/opt/homebrew/Caskroom/miniforge/base/envs/base_env_39/lib/python3.9/site-packages/statsmodels/tsa/statespace/sarimax.py:978: UserWarning: Non-invertible starting MA parameters found. Using zeros as starting parameters.\n",
      "  warn('Non-invertible starting MA parameters found.'\n"
     ]
    },
    {
     "data": {
      "text/plain": [
       "<AxesSubplot:>"
      ]
     },
     "execution_count": 4,
     "metadata": {},
     "output_type": "execute_result"
    },
    {
     "data": {
      "image/png": "[encoded data removed]",
      "text/plain": [
       "<Figure size 432x288 with 1 Axes>"
      ]
     },
     "metadata": {
      "needs_background": "light"
     },
     "output_type": "display_data"
    }
   ],
   "source": [
    "# simulate some tests\n",
    "\n",
    "params = [(0,0),(0,1),(10,0),(1,10),(0.33,0.55),(-1,-0.3),(1,-0.3)]\n",
    "for p in params:\n",
    "    x1 = p[0]\n",
    "    ma_L1 = p[1]\n",
    "    y_sm,errors_sm = simulate_ARIMA011_test(N=10,x1=x1,ma_L1=ma_L1,plot=False)\n",
    "    fit_ARIMA011_test(y_sm)\n",
    "    y_sm,errors_sm,y_sm-errors_sm\n",
    "    \n",
    "    my_y = ARIMA011(x1=x1,ma_L1=ma_L1).forward(errors_sm).detach().numpy()    \n",
    "    assert (my_y-y_sm)[1:].std()<0.01\n",
    "    print(f\"passed sanity check for x1={p[0]} , ma_L1={p[1]}\")\n",
    "    \n",
    "\n",
    "sns.lineplot(data=my_y,label=\"mine\")\n",
    "sns.lineplot(data=y_sm,label=\"stats\")"
   ]
  },
  {
   "cell_type": "markdown",
   "id": "646fb43d-14e9-4f74-a8f5-84e8820ccf4a",
   "metadata": {},
   "source": [
    "## \n",
    "> Generate a random 20 sample long ARIMA(0,1,1) time series with drift."
   ]
  },
  {
   "cell_type": "code",
   "execution_count": 5,
   "id": "86d79430-025c-4310-845f-3735c6903052",
   "metadata": {
    "execution": {
     "iopub.execute_input": "2022-01-22T18:37:45.937944Z",
     "iopub.status.busy": "2022-01-22T18:37:45.937773Z",
     "iopub.status.idle": "2022-01-22T18:37:46.028507Z",
     "shell.execute_reply": "2022-01-22T18:37:46.028151Z",
     "shell.execute_reply.started": "2022-01-22T18:37:45.937930Z"
    },
    "tags": []
   },
   "outputs": [
    {
     "data": {
      "text/plain": [
       "<AxesSubplot:>"
      ]
     },
     "execution_count": 5,
     "metadata": {},
     "output_type": "execute_result"
    },
    {
     "data": {
      "image/png": "[encoded data removed]",
      "text/plain": [
       "<Figure size 432x288 with 1 Axes>"
      ]
     },
     "metadata": {
      "needs_background": "light"
     },
     "output_type": "display_data"
    }
   ],
   "source": [
    "A011 = ARIMA011(x1=5,ma_L1=0.5)\n",
    "torch.manual_seed(42)\n",
    "\n",
    "N = 20\n",
    "\n",
    "v = torch.normal(0,1,size=tuple([N])) # IID NOISE\n",
    "# v[0] = 1\n",
    "\n",
    "y=A011(v)\n",
    "sns.lineplot(data=y.detach().numpy(),label=\"ARIMA(0,1,1)\")\n",
    "sns.lineplot(data=v.detach().numpy(),color=\"green\",label=\"errors\")"
   ]
  },
  {
   "cell_type": "markdown",
   "id": "bd75245f-24b2-4bbb-9c04-09001fb3e8e9",
   "metadata": {},
   "source": [
    "We define the model fit process as finding the maximum likelihood\n",
    "parameters that fit the training data set."
   ]
  },
  {
   "cell_type": "markdown",
   "id": "c8235f16-3f53-463d-b2b0-64517e8acf82",
   "metadata": {},
   "source": [
    "## \n",
    "> Fit the model parameters to a training data set comprised of the first 14 samples of the time series generated in the second item."
   ]
  },
  {
   "cell_type": "code",
   "execution_count": 9,
   "id": "e48272e1-a092-4ead-ad19-50e1a122799f",
   "metadata": {
    "execution": {
     "iopub.execute_input": "2022-01-22T18:39:06.025638Z",
     "iopub.status.busy": "2022-01-22T18:39:06.025325Z",
     "iopub.status.idle": "2022-01-22T18:39:06.278115Z",
     "shell.execute_reply": "2022-01-22T18:39:06.277179Z",
     "shell.execute_reply.started": "2022-01-22T18:39:06.025612Z"
    },
    "tags": []
   },
   "outputs": [
    {
     "data": {
      "text/plain": [
       "<AxesSubplot:>"
      ]
     },
     "execution_count": 9,
     "metadata": {},
     "output_type": "execute_result"
    },
    {
     "data": {
      "image/png": "[encoded data removed]",
      "text/plain": [
       "<Figure size 432x288 with 1 Axes>"
      ]
     },
     "metadata": {
      "needs_background": "light"
     },
     "output_type": "display_data"
    }
   ],
   "source": [
    "train = y[:14]\n",
    "test = y[13:]\n",
    "train,test\n",
    "\n",
    "\n",
    "sns.lineplot(data=torch.cat((train,test*np.nan)).detach().numpy(),label=\"train\")\n",
    "sns.lineplot(data=torch.cat((train*np.nan,test)).detach().numpy(),label=\"test\")\n",
    "sns.lineplot(data=v,label=\"iid\")"
   ]
  },
  {
   "cell_type": "code",
   "execution_count": 10,
   "id": "0000ac22-beb8-4366-97a1-36dfdd66d3c0",
   "metadata": {
    "execution": {
     "iopub.execute_input": "2022-01-22T18:39:06.356254Z",
     "iopub.status.busy": "2022-01-22T18:39:06.356007Z",
     "iopub.status.idle": "2022-01-22T18:39:11.962208Z",
     "shell.execute_reply": "2022-01-22T18:39:11.961831Z",
     "shell.execute_reply.started": "2022-01-22T18:39:06.356225Z"
    },
    "tags": []
   },
   "outputs": [
    {
     "name": "stdout",
     "output_type": "stream",
     "text": [
      "X1=> True value: tensor([0.5000]) Fitted value: tensor([0.7909])\n",
      "MA_L1=> True value: tensor([5.]) Fitted value: tensor(5.5788)\n"
     ]
    }
   ],
   "source": [
    "model =  ARIMA011(x1=0,ma_L1=0)\n",
    "model.fit(train,verbose=0,iters=5000)\n",
    "\n",
    "x1_true,ma_L1_true = A011.parameters()\n",
    "x1_fit,ma_L1_fit = model.parameters()\n",
    "\n",
    "print(\"X1=> True value:\",x1_true.data,\"Fitted value:\",x1_fit.data)\n",
    "print(\"MA_L1=> True value:\",ma_L1_true.data,\"Fitted value:\",ma_L1_fit.data)"
   ]
  },
  {
   "cell_type": "markdown",
   "id": "b90122da-4d2e-48bc-b66d-716b6d5bc319",
   "metadata": {},
   "source": [
    "## \n",
    "> Calculate the probability of observing a testing data set comprised of last 6 samples given the model fitted in the previous step"
   ]
  },
  {
   "cell_type": "code",
   "execution_count": 11,
   "id": "0670b011-472e-426b-b10f-47d513e732ef",
   "metadata": {
    "execution": {
     "iopub.execute_input": "2022-01-22T18:39:11.963134Z",
     "iopub.status.busy": "2022-01-22T18:39:11.963043Z",
     "iopub.status.idle": "2022-01-22T18:39:11.966690Z",
     "shell.execute_reply": "2022-01-22T18:39:11.966338Z",
     "shell.execute_reply.started": "2022-01-22T18:39:11.963121Z"
    },
    "tags": []
   },
   "outputs": [
    {
     "data": {
      "text/plain": [
       "tensor([-3.5777], grad_fn=<NegBackward0>)"
      ]
     },
     "execution_count": 11,
     "metadata": {},
     "output_type": "execute_result"
    }
   ],
   "source": [
    "model.log_likelihood_arima(test[0])"
   ]
  },
  {
   "cell_type": "markdown",
   "id": "a0ec6e40-af25-45e1-8218-303e3c028744",
   "metadata": {},
   "source": [
    "# Task 2"
   ]
  },
  {
   "cell_type": "markdown",
   "id": "4cf10cc0-0ac9-4641-a25b-ca58d80eeb10",
   "metadata": {},
   "source": [
    "## \n",
    "> Describe how you would do the task in 1.2.1 given a training data set comprised of first and last 7 samples and a testing data set comprised of the remaining samples."
   ]
  },
  {
   "cell_type": "markdown",
   "id": "871e6796-9561-41e3-b8d4-70d94508dee3",
   "metadata": {},
   "source": [
    "Given a dataset of 7 first and last samples, we don't have as many differences from which we can calculate the errors.\n",
    "We can look at the problem as one with two time-series and a non-contiguous break in between them.\n",
    "If our data is composed of T = t1,t2,t3\n",
    "So then:\n",
    "  \n",
    "loss(T,x1,ma_L1) = loss(t1,x1,ma_L1)+loss(t3,x1,ma_L1)\n",
    "    \n",
    "And we can use a similar optimization technique to find the optimal values.\n",
    "* When working with time series we may get optimistic validation results due to look-ahead-bias (training on t3 and validating on t2)."
   ]
  },
  {
   "cell_type": "markdown",
   "id": "7dd28bfd-662d-43f6-bf3d-8bc906d8c52a",
   "metadata": {
    "execution": {
     "iopub.execute_input": "2022-01-22T18:31:08.335037Z",
     "iopub.status.busy": "2022-01-22T18:31:08.333437Z",
     "iopub.status.idle": "2022-01-22T18:31:08.345715Z",
     "shell.execute_reply": "2022-01-22T18:31:08.344542Z",
     "shell.execute_reply.started": "2022-01-22T18:31:08.334974Z"
    }
   },
   "source": [
    "# References\n",
    "[https://www.youtube.com/watch?v=ukGJ0sLgbqI](https://www.youtube.com/watch?v=ukGJ0sLgbqI)\n",
    "\n",
    "[https://people.duke.edu/~rnau/411arim.htm](https://people.duke.edu/~rnau/411arim.htm)\n",
    "\n",
    "[https://www.youtube.com/watch?v=IC0_FRiX-sw&list=PL_lsbAsL_o2CTlGHgMxNrKhzP97BaG9ZN](https://www.youtube.com/watch?v=IC0_FRiX-sw&list=PL_lsbAsL_o2CTlGHgMxNrKhzP97BaG9ZN)"
   ]
  },
  {
   "cell_type": "code",
   "execution_count": null,
   "id": "a4ab6750-7242-4412-a819-aa3388d4c731",
   "metadata": {},
   "outputs": [],
   "source": []
  }
 ],
 "metadata": {
  "kernelspec": {
   "display_name": "Python 3 (ipykernel)",
   "language": "python",
   "name": "python3"
  },
  "language_info": {
   "codemirror_mode": {
    "name": "ipython",
    "version": 3
   },
   "file_extension": ".py",
   "mimetype": "text/x-python",
   "name": "python",
   "nbconvert_exporter": "python",
   "pygments_lexer": "ipython3",
   "version": "3.9.9"
  },
  "toc-autonumbering": true
 },
 "nbformat": 4,
 "nbformat_minor": 5
}
