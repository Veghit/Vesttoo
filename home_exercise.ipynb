{
 "cells": [
  {
   "cell_type": "markdown",
   "id": "064a4671-f7bc-4e06-9242-b611b9dc8a8d",
   "metadata": {},
   "source": [
    "## Example module - average"
   ]
  },
  {
   "cell_type": "code",
   "execution_count": 1,
   "id": "a8c98805-4385-4a23-a56d-fcd154e04980",
   "metadata": {
    "execution": {
     "iopub.execute_input": "2022-01-21T23:15:02.032676Z",
     "iopub.status.busy": "2022-01-21T23:15:02.031723Z",
     "iopub.status.idle": "2022-01-21T23:15:03.206734Z",
     "shell.execute_reply": "2022-01-21T23:15:03.206456Z",
     "shell.execute_reply.started": "2022-01-21T23:15:02.032606Z"
    }
   },
   "outputs": [],
   "source": [
    "import torch\n",
    "import seaborn as sns\n",
    "import pandas as pd\n",
    "import numpy as np"
   ]
  },
  {
   "cell_type": "markdown",
   "id": "82f9ebc7-589b-4b38-a9df-27e82da17bd6",
   "metadata": {},
   "source": [
    "Create a PyTorch module describing an ARIMA(0,1,1) time series."
   ]
  },
  {
   "cell_type": "code",
   "execution_count": 2,
   "id": "a4d2ead5-17c4-41ef-b665-f940de49c339",
   "metadata": {
    "execution": {
     "iopub.execute_input": "2022-01-21T23:15:03.207790Z",
     "iopub.status.busy": "2022-01-21T23:15:03.207689Z",
     "iopub.status.idle": "2022-01-21T23:15:03.212881Z",
     "shell.execute_reply": "2022-01-21T23:15:03.212676Z",
     "shell.execute_reply.started": "2022-01-21T23:15:03.207781Z"
    },
    "tags": []
   },
   "outputs": [],
   "source": [
    "class ARIMA011(torch.nn.Module):\n",
    "    \n",
    "    \"\"\"\n",
    "    This Class describes a PyTorch Module of an ARIMA(0,1,1)\n",
    "    time-seris process, a simple exponential average with a drift.\n",
    "    Such a model has two main parameters: the drift veloocity (drift)\n",
    "    and the amount of exponential decay (alpha). \n",
    "    \"\"\"\n",
    "    \n",
    "    def __init__(self,ma_L1=0.5,x1=0.5):\n",
    "        super(ARIMA011, self).__init__()\n",
    "        \n",
    "        self.ma_L1 = torch.nn.Parameter((torch.ones(1)*ma_L1))\n",
    "        self.x1 = torch.nn.Parameter((torch.ones(1)*x1))\n",
    "    \n",
    "    def forward(self, errors):\n",
    "        \"\"\"\n",
    "        * Given additional time it is probably possible to improve the time complexity \n",
    "        of this function, using tensor computations instead of the main \"for\" loop.\n",
    "        We assume that the errors are normally distributed with mean 0 and sigma 1.\n",
    "        \"\"\"\n",
    "        \n",
    "        n = len(errors)\n",
    "        observed = torch.zeros(n)\n",
    "        forecast = torch.zeros(n)\n",
    "        \n",
    "        for i in range(0,n):\n",
    "            # print(observed)\n",
    "            if i==0:\n",
    "                forecast[i]=0\n",
    "            else:\n",
    "                forecast[i]=forecast[i-1]+(1+self.ma_L1)*errors[i-1]+self.x1\n",
    "            observed[i] = (forecast[i]+errors[i])\n",
    "\n",
    "        # observed=observed.clone()-observed[1]\n",
    "        # observed[0] = 0\n",
    "        \n",
    "        return observed\n",
    "    \n",
    "    def fit(self,y):\n",
    "        \"\"\"\n",
    "        Calculating the maximum likelihood parameters of an ARIMA(0,1,1) model.\n",
    "        The values of alpha and drift which gives the highest likelihood for the observed values. \n",
    "        \"\"\"\n",
    "        errors = y.diff(n=1,dim=0) #errors should be distributed ~N(drift,alpha)\n",
    "\n",
    "        drift = errors.mean()\n",
    "       \n",
    "        return drift,None\n",
    "    \n",
    "    \n",
    "    def likelihood_normal(x,mu,sigma):\n",
    "        denomerator = sigma*((2*math.pi)**(0.5))\n",
    "\n",
    "        numerator = np.exp(-(((x-mu)**2)/(2*sigma)))\n",
    "        return numerator/denomerator\n",
    "    \n",
    "    \n",
    "    \n",
    "    def log_likelihood_arima(y,x1,ma_L1):\n",
    "        # x1,ma_L1 = params[0],params[1]\n",
    "        eps = 1e-19\n",
    "        # print(params)\n",
    "        ll = 0\n",
    "        prev_error = None\n",
    "        for i in range(len(y)):\n",
    "            if i==0:\n",
    "                error=0\n",
    "            else:\n",
    "                error = y[i]-y[i-1]+ma_L1*prev_error-x1 \n",
    "            prev_error = error\n",
    "            # print(error)\n",
    "            ll+=np.log(likelihood_normal(x=error,mu=0,sigma=1)+eps)\n",
    "            # print(ll)\n",
    "        # print(ll)\n",
    "        return -ll\n"
   ]
  },
  {
   "cell_type": "code",
   "execution_count": 3,
   "id": "8bc0536a-c3ea-43a4-b731-a56eae5c0ed7",
   "metadata": {
    "execution": {
     "iopub.execute_input": "2022-01-21T23:15:03.213343Z",
     "iopub.status.busy": "2022-01-21T23:15:03.213277Z",
     "iopub.status.idle": "2022-01-21T23:15:03.350403Z",
     "shell.execute_reply": "2022-01-21T23:15:03.350174Z",
     "shell.execute_reply.started": "2022-01-21T23:15:03.213335Z"
    },
    "tags": []
   },
   "outputs": [],
   "source": [
    "# sanity check for simulation generator using statsmodels ARIMA\n",
    "\n",
    "import numpy as np\n",
    "from statsmodels.tsa.api import ARIMA\n",
    "\n",
    "def simulate_ARIMA011_test(N,x1,ma_L1,plot=False,verbose=0):\n",
    "    if verbose>0:\n",
    "        print(\"simulating ARIMA(0,1,1) model\")\n",
    "\n",
    "    sigma = 1\n",
    "\n",
    "    zero_dta = np.zeros(N)\n",
    "\n",
    "    modl = ARIMA(zero_dta, order = (0,1,1),trend=\"t\",trend_offset=0)\n",
    "    np.random.seed(100)\n",
    "    errors = ARIMA(zero_dta, order = (0,0,0)).simulate(params=[0,1],nsimulations=N)\n",
    "    # errors[0]=0\n",
    "    # errors = ARIMA(zero_dta, order = (0,0,0),trend=\"t\",trend_offset=0).simulate(params=[1],nsimulations=N)\n",
    "    params = (x1,ma_L1,sigma,)\n",
    "    if verbose>0:\n",
    "        print(\"(ma_L1,sigma)\",params)\n",
    "    np.random.seed(100)\n",
    "    sims = modl.simulate(params=params,nsimulations=N,trend_offset=0)\n",
    "    sims[0] = None\n",
    "    sims-=sims[1]\n",
    "    # sims=sims-(sims[0])-1.17894699\n",
    "    if plot:\n",
    "        sns.lineplot(data=sims,label=\"arima\")\n",
    "        sns.lineplot(data=errors,label=\"errors\")\n",
    "    return sims,errors\n",
    "\n",
    "def fit_ARIMA011_test(y):\n",
    "    np.random.seed(100)\n",
    "    sigma=1\n",
    "    modl = ARIMA(y, order = (0,1,1),trend=\"t\",trend_offset=0)\n",
    "    res = modl.fit_constrained({\"sigma2\":sigma})\n",
    "    # print(res.summary())\n",
    "    return res.params\n",
    "\n",
    "\n"
   ]
  },
  {
   "cell_type": "markdown",
   "id": "650ca14d-d196-4b7c-a896-eb69189a766e",
   "metadata": {},
   "source": [
    "## TEST my PyTorch generative Module"
   ]
  },
  {
   "cell_type": "code",
   "execution_count": 4,
   "id": "80625852-6431-4f08-84b0-31bca20103b6",
   "metadata": {
    "execution": {
     "iopub.execute_input": "2022-01-21T23:15:03.350909Z",
     "iopub.status.busy": "2022-01-21T23:15:03.350839Z",
     "iopub.status.idle": "2022-01-21T23:15:03.504682Z",
     "shell.execute_reply": "2022-01-21T23:15:03.504408Z",
     "shell.execute_reply.started": "2022-01-21T23:15:03.350900Z"
    },
    "tags": []
   },
   "outputs": [
    {
     "name": "stdout",
     "output_type": "stream",
     "text": [
      "passed sanity check for x1=0 , ma_L1=0\n",
      "passed sanity check for x1=0 , ma_L1=1\n",
      "passed sanity check for x1=1 , ma_L1=0\n",
      "passed sanity check for x1=1 , ma_L1=1\n",
      "passed sanity check for x1=0.33 , ma_L1=0.55\n",
      "passed sanity check for x1=-1 , ma_L1=-0.3\n",
      "passed sanity check for x1=1 , ma_L1=-0.3\n"
     ]
    },
    {
     "name": "stderr",
     "output_type": "stream",
     "text": [
      "/opt/homebrew/Caskroom/miniforge/base/envs/base_env_39/lib/python3.9/site-packages/statsmodels/tsa/statespace/sarimax.py:978: UserWarning: Non-invertible starting MA parameters found. Using zeros as starting parameters.\n",
      "  warn('Non-invertible starting MA parameters found.'\n",
      "/opt/homebrew/Caskroom/miniforge/base/envs/base_env_39/lib/python3.9/site-packages/statsmodels/tsa/statespace/sarimax.py:978: UserWarning: Non-invertible starting MA parameters found. Using zeros as starting parameters.\n",
      "  warn('Non-invertible starting MA parameters found.'\n"
     ]
    },
    {
     "data": {
      "text/plain": [
       "<AxesSubplot:>"
      ]
     },
     "execution_count": 4,
     "metadata": {},
     "output_type": "execute_result"
    },
    {
     "data": {
      "image/png": "[encoded data removed]",
      "text/plain": [
       "<Figure size 432x288 with 1 Axes>"
      ]
     },
     "metadata": {
      "needs_background": "light"
     },
     "output_type": "display_data"
    }
   ],
   "source": [
    "# ma_L1 = -(1-a)\n",
    "\n",
    "# simulate some tests\n",
    "\n",
    "params = [(0,0),(0,1),(1,0),(1,1),(0.33,0.55),(-1,-0.3),(1,-0.3)]\n",
    "for p in params:\n",
    "    x1 = p[0]\n",
    "    ma_L1 = p[1]\n",
    "    y_sm,errors_sm = simulate_ARIMA011_test(N=10,x1=x1,ma_L1=ma_L1,plot=False)\n",
    "    fit_ARIMA011_test(y_sm)\n",
    "    y_sm,errors_sm,y_sm-errors_sm\n",
    "    \n",
    "    my_y = ARIMA011(x1=x1,ma_L1=ma_L1).forward(errors_sm).detach().numpy()\n",
    "\n",
    "    # errors,my_y\n",
    "    # my_y-y_sm,my_y,y_sm,errors_sm.mean(),errors_sm\n",
    "    \n",
    "    assert (my_y-y_sm)[1:].std()<0.01\n",
    "    print(f\"passed sanity check for x1={p[0]} , ma_L1={p[1]}\")\n",
    "\n",
    "sns.lineplot(data=my_y,label=\"mine\")\n",
    "sns.lineplot(data=y_sm,label=\"stats\")"
   ]
  },
  {
   "cell_type": "markdown",
   "id": "646fb43d-14e9-4f74-a8f5-84e8820ccf4a",
   "metadata": {},
   "source": [
    "Generate a random 20 sample long ARIMA(0,1,1) time series with drift."
   ]
  },
  {
   "cell_type": "code",
   "execution_count": 5,
   "id": "86d79430-025c-4310-845f-3735c6903052",
   "metadata": {
    "execution": {
     "iopub.execute_input": "2022-01-21T23:15:03.505575Z",
     "iopub.status.busy": "2022-01-21T23:15:03.505383Z",
     "iopub.status.idle": "2022-01-21T23:15:03.582162Z",
     "shell.execute_reply": "2022-01-21T23:15:03.581775Z",
     "shell.execute_reply.started": "2022-01-21T23:15:03.505565Z"
    },
    "tags": []
   },
   "outputs": [
    {
     "data": {
      "text/plain": [
       "(tensor([ 1.9269,  1.4873,  0.9007, -2.1055, -0.7581,  1.0783,  0.8008,  1.6806,\n",
       "          0.3559, -0.6866, -0.4934,  0.2415, -0.2316,  0.0418, -0.2516,  0.8599,\n",
       "         -0.3097, -0.3957,  0.8034, -0.6216]),\n",
       " tensor([ 1.9269,  6.3411,  9.7291,  9.5243,  7.6607,  8.9808, 11.8600, 15.3414,\n",
       "         18.3779, 19.0471, 18.8671, 19.6153, 20.6251, 21.4353, 22.2254, 23.8337,\n",
       "         25.3839, 25.6784, 27.0861, 28.2679], grad_fn=<CopySlices>))"
      ]
     },
     "execution_count": 5,
     "metadata": {},
     "output_type": "execute_result"
    },
    {
     "data": {
      "image/png": "[encoded data removed]",
      "text/plain": [
       "<Figure size 432x288 with 1 Axes>"
      ]
     },
     "metadata": {
      "needs_background": "light"
     },
     "output_type": "display_data"
    }
   ],
   "source": [
    "A011 = ARIMA011(x1=1,ma_L1=1)\n",
    "torch.manual_seed(42)\n",
    "\n",
    "N = 20\n",
    "\n",
    "v = torch.normal(0,1,size=tuple([N])) # IID NOISE\n",
    "# v[0] = 1\n",
    "\n",
    "y=A011(v)\n",
    "sns.lineplot(data=y.detach().numpy(),label=\"ARIMA(0,1,1)\")\n",
    "sns.lineplot(data=v.detach().numpy(),color=\"green\",label=\"errors\")\n",
    "v,y"
   ]
  },
  {
   "cell_type": "markdown",
   "id": "bd75245f-24b2-4bbb-9c04-09001fb3e8e9",
   "metadata": {},
   "source": [
    "We define the model fit process as finding the maximum likelihood\n",
    "parameters that fit the training data set."
   ]
  },
  {
   "cell_type": "markdown",
   "id": "c8235f16-3f53-463d-b2b0-64517e8acf82",
   "metadata": {},
   "source": [
    "Fit the model parameters to a training data set comprised of the first\n",
    "14 samples of the time series generated in the second item."
   ]
  },
  {
   "cell_type": "code",
   "execution_count": 6,
   "id": "e48272e1-a092-4ead-ad19-50e1a122799f",
   "metadata": {
    "execution": {
     "iopub.execute_input": "2022-01-21T23:15:03.582907Z",
     "iopub.status.busy": "2022-01-21T23:15:03.582647Z",
     "iopub.status.idle": "2022-01-21T23:15:03.652068Z",
     "shell.execute_reply": "2022-01-21T23:15:03.651703Z",
     "shell.execute_reply.started": "2022-01-21T23:15:03.582895Z"
    },
    "tags": []
   },
   "outputs": [
    {
     "data": {
      "text/plain": [
       "<AxesSubplot:>"
      ]
     },
     "execution_count": 6,
     "metadata": {},
     "output_type": "execute_result"
    },
    {
     "data": {
      "image/png": "[encoded data removed]",
      "text/plain": [
       "<Figure size 432x288 with 1 Axes>"
      ]
     },
     "metadata": {
      "needs_background": "light"
     },
     "output_type": "display_data"
    }
   ],
   "source": [
    "train = y[:14]\n",
    "test = y[14:]\n",
    "train,test\n",
    "\n",
    "\n",
    "sns.lineplot(data=torch.cat((train,test*np.nan)).detach().numpy(),label=\"train\")\n",
    "sns.lineplot(data=torch.cat((train*np.nan,test)).detach().numpy(),label=\"test\")\n",
    "sns.lineplot(data=v,label=\"iid\")"
   ]
  },
  {
   "cell_type": "markdown",
   "id": "b90122da-4d2e-48bc-b66d-716b6d5bc319",
   "metadata": {},
   "source": [
    "• Calculated the probability of observing a testing data set comprised of\n",
    "last 6 samples given the model fitted in the previous step"
   ]
  },
  {
   "cell_type": "markdown",
   "id": "63bec1d0-44e8-4ebe-b9be-6313674b54dc",
   "metadata": {
    "execution": {
     "iopub.execute_input": "2022-01-18T21:24:26.054327Z",
     "iopub.status.busy": "2022-01-18T21:24:26.054012Z",
     "iopub.status.idle": "2022-01-18T21:24:26.070769Z",
     "shell.execute_reply": "2022-01-18T21:24:26.069581Z",
     "shell.execute_reply.started": "2022-01-18T21:24:26.054299Z"
    }
   },
   "source": [
    "likelihood (y,drift,alpha)"
   ]
  },
  {
   "cell_type": "code",
   "execution_count": 7,
   "id": "e1c33a20-2e90-47fd-8ca0-26e4a134fe94",
   "metadata": {
    "execution": {
     "iopub.execute_input": "2022-01-21T23:15:03.652861Z",
     "iopub.status.busy": "2022-01-21T23:15:03.652787Z",
     "iopub.status.idle": "2022-01-21T23:15:03.657023Z",
     "shell.execute_reply": "2022-01-21T23:15:03.656066Z",
     "shell.execute_reply.started": "2022-01-21T23:15:03.652852Z"
    },
    "tags": []
   },
   "outputs": [],
   "source": [
    "y = train\n",
    "import math\n",
    "\n",
    "def likelihood_normal(x,mu,sigma):\n",
    "    denomerator = sigma*((2*math.pi)**(0.5))\n",
    "\n",
    "    numerator = torch.exp(-(((x-mu)**2)/(2*sigma)))\n",
    "    return numerator/denomerator\n",
    "    \n",
    "    \n",
    "    \n",
    "def log_likelihood_arima(y,x1,ma_L1):\n",
    "    # x1,ma_L1 = params[0],params[1]\n",
    "    eps = 1e-10\n",
    "    # print(params)\n",
    "    ll = 0\n",
    "    prev_error = None\n",
    "    for i in range(len(y)):\n",
    "        if i==0:\n",
    "            error=torch.zeros(1)\n",
    "        else:\n",
    "            error = y[i]-y[i-1]+ma_L1*prev_error-x1 \n",
    "        prev_error = error\n",
    "        # print(error)\n",
    "        ll+=torch.log(likelihood_normal(x=error,mu=0,sigma=1)+eps)\n",
    "        # print(ll)\n",
    "    # print(ll)\n",
    "    return -ll"
   ]
  },
  {
   "cell_type": "code",
   "execution_count": 8,
   "id": "24aad040-a8c8-4e84-8c15-e41adf067864",
   "metadata": {
    "execution": {
     "iopub.execute_input": "2022-01-21T23:15:03.660058Z",
     "iopub.status.busy": "2022-01-21T23:15:03.659915Z",
     "iopub.status.idle": "2022-01-21T23:15:08.204527Z",
     "shell.execute_reply": "2022-01-21T23:15:08.204269Z",
     "shell.execute_reply.started": "2022-01-21T23:15:03.660048Z"
    },
    "tags": []
   },
   "outputs": [
    {
     "name": "stdout",
     "output_type": "stream",
     "text": [
      "tensor([300.2542], grad_fn=<NegBackward0>) Parameter containing:\n",
      "tensor([1.], requires_grad=True) Parameter containing:\n",
      "tensor([1.], requires_grad=True)\n"
     ]
    },
    {
     "data": {
      "image/png": "[encoded data removed]",
      "text/plain": [
       "<Figure size 432x288 with 1 Axes>"
      ]
     },
     "metadata": {
      "needs_background": "light"
     },
     "output_type": "display_data"
    }
   ],
   "source": [
    "# log_likelihood_arima(y,x1=0,ma_L1=1)\n",
    "generator = ARIMA011(x1=10,ma_L1=0.79)\n",
    "v = torch.normal(0,1,size=tuple([14])) # IID NOISE\n",
    "y=generator(v)\n",
    "sns.lineplot(data=y.detach())\n",
    "\n",
    "model =  ARIMA011(x1=0,ma_L1=0)\n",
    "\n",
    "optim = torch.optim.SGD(model.parameters(), lr=0.001, momentum=0.25)\n",
    "\n",
    "\n",
    "\n",
    "for values in range(5000):\n",
    "    x1,ma_L1 = A011.parameters()\n",
    "    loss = log_likelihood_arima(y.clone(), x1=x1,ma_L1=ma_L1)\n",
    "    # print(x1,ma_L1)\n",
    "    # print(\"LOSS\",loss)\n",
    "    optim.zero_grad()\n",
    "    loss.backward(retain_graph=True)\n",
    "    optim.step()\n",
    "\n",
    "    \n",
    "print(loss,x1,ma_L1)"
   ]
  },
  {
   "cell_type": "markdown",
   "id": "a0ec6e40-af25-45e1-8218-303e3c028744",
   "metadata": {},
   "source": [
    "# Task II"
   ]
  },
  {
   "cell_type": "markdown",
   "id": "871e6796-9561-41e3-b8d4-70d94508dee3",
   "metadata": {},
   "source": [
    "Given a dataset of 7 first and last samples, we don't have as many differences from which we can calculate the errors.\n",
    "We can look at the problem as two time-series with a non-contiguous break in between them.\n",
    "t1,t2,t3\n",
    "So that loss(T,alpha,mu) = loss(t1,alpha,mu)+loss(t3,alpha,mu)\n"
   ]
  }
 ],
 "metadata": {
  "kernelspec": {
   "display_name": "Python 3 (ipykernel)",
   "language": "python",
   "name": "python3"
  },
  "language_info": {
   "codemirror_mode": {
    "name": "ipython",
    "version": 3
   },
   "file_extension": ".py",
   "mimetype": "text/x-python",
   "name": "python",
   "nbconvert_exporter": "python",
   "pygments_lexer": "ipython3",
   "version": "3.9.9"
  }
 },
 "nbformat": 4,
 "nbformat_minor": 5
}
